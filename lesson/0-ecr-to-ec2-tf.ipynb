{
 "cells": [
  {
   "cell_type": "markdown",
   "id": "48387fed-ee05-4c04-bec9-f8795f2690ad",
   "metadata": {},
   "source": [
    "# Roles and Policies with ECR and Terraform"
   ]
  },
  {
   "cell_type": "markdown",
   "id": "ca6e8b3d-abb8-4125-a38d-0ac99bb3f7ee",
   "metadata": {},
   "source": [
    "### Introduction"
   ]
  },
  {
   "cell_type": "markdown",
   "id": "c933d31b-b6bc-4191-b0c8-f967c10f53bd",
   "metadata": {},
   "source": [
    "In the last lesson, we saw how we can create an ECR repository and then access an image in ECR from our EC2 instance.  In this lesson, we'll see how we can perform these steps with terraform.  Let's get started."
   ]
  },
  {
   "cell_type": "markdown",
   "id": "5a02e112-c8c7-4a95-908e-2e16ed08d2ae",
   "metadata": {},
   "source": [
    "### Creating our Resources"
   ]
  },
  {
   "cell_type": "markdown",
   "id": "aec43601-0ab2-4e92-aa75-a1109e2e7f8e",
   "metadata": {
    "tags": []
   },
   "source": [
    "We can get started by writing the code for our EC2 and ECR resources.  We've seen the EC2 resource before.  And with the addition of some security groups to grant ssh and http access, it looks like the following."
   ]
  },
  {
   "cell_type": "markdown",
   "id": "164fd398-b6f0-4247-b175-9ccef9b827b7",
   "metadata": {},
   "source": [
    "```bash\n",
    "resource \"aws_instance\" \"example\" {\n",
    " ami = \"ami-123456\" # Replace with your AMI\n",
    " instance_type = \"t2.micro\"\n",
    "}\n",
    "```"
   ]
  },
  {
   "cell_type": "markdown",
   "id": "0fb02b1f-5e51-483f-9489-0f0582b789c4",
   "metadata": {},
   "source": [
    "And we can create an ECR repository with the following:"
   ]
  },
  {
   "cell_type": "markdown",
   "id": "4934a85c-9078-4544-8878-8468a634fa4b",
   "metadata": {},
   "source": [
    "```bash\n",
    "resource \"aws_ecr_repository\" \"my_ecr_repository\" {\n",
    "  name = \"flask-web-app\"\n",
    "}\n",
    "```"
   ]
  },
  {
   "cell_type": "markdown",
   "id": "1d111efa-0317-47dd-ba76-30c3704564a0",
   "metadata": {},
   "source": [
    "### Defining roles and policies"
   ]
  },
  {
   "cell_type": "markdown",
   "id": "53e1d527-f099-4f64-b647-8bf4c4b45c5d",
   "metadata": {},
   "source": [
    "Ok, so next we'll need to define roles and policies that allow an EC2 machine to access our ECR.  Let's move through this."
   ]
  },
  {
   "cell_type": "markdown",
   "id": "65ed61f0-7c42-485e-bdf3-d33db878b711",
   "metadata": {},
   "source": [
    "1. Defining our Role\n",
    "\n",
    "* The role in terraform is referred to as an iam role -- an identity and access management role.  You can think of a role like a **keycard** that allows access to different kinds of resources (eg. like an ECR repository), and actions that can be performed on that reosurce.  In AWS these statements of permission are called **policies**."
   ]
  },
  {
   "cell_type": "markdown",
   "id": "d108fd35-a92c-4ab5-837c-e9d606164b5a",
   "metadata": {},
   "source": [
    "Ok, let's create a role."
   ]
  },
  {
   "cell_type": "markdown",
   "id": "3339e764-d7c7-4b79-8a2b-f34e547e91d9",
   "metadata": {},
   "source": [
    "```bash\n",
    "resource \"aws_iam_role\" \"ec2_ecr_role\" {\n",
    "    name = \"ec2-ecr-role\"\n",
    "\n",
    "}\n",
    "```"
   ]
  },
  {
   "cell_type": "markdown",
   "id": "fea2635b-654a-44ac-983c-da7a274bf300",
   "metadata": {},
   "source": [
    "Ok, that's our keycard above, but right now it doesn't have any policies associated with it, and so cannot really do anything.  There are two different kinds of policies that we'll work with in this lesson.\n",
    "\n",
    "1. A trust policy\n",
    "    * The trust policy specifies what kind of resource can get this iam role.  That is, who gets to hold onto the keycard.  In this case we'll want our EC2 machine to hold onto the keycard.\n",
    "2. Identity Policy\n",
    "    * This specifies what access is granted to a resource -- ie what actions can be performed on what resource."
   ]
  },
  {
   "cell_type": "markdown",
   "id": "f411ebce-c0c4-410a-81ab-679af776f7fa",
   "metadata": {},
   "source": [
    "#### The Trust Policy\n",
    "\n",
    "Ok, so when we create a role, we normally also specify the trust policy.  So let's update that role from above to look like the following."
   ]
  },
  {
   "cell_type": "markdown",
   "id": "d4d29ca0-3c21-4039-8dc9-7118f00d74a5",
   "metadata": {},
   "source": [
    "```bash\n",
    "resource \"aws_iam_role\" \"ec2_ecr_role\" {\n",
    "  name = \"ec2-ecr-role\"\n",
    "\n",
    "  assume_role_policy = jsonencode({\n",
    "  Version = \"2012-10-17\"\n",
    "  Statement = [\n",
    "    {\n",
    "      Action = \"sts:AssumeRole\"\n",
    "      Effect = \"Allow\"\n",
    "      Principal = {Service = \"ec2.amazonaws.com\"}\n",
    "      Sid = \"\"\n",
    "    },\n",
    "    ]\n",
    "  })\n",
    "}\n",
    "```"
   ]
  },
  {
   "cell_type": "markdown",
   "id": "dd17da83-0ffd-4ef4-a03e-f64a42079f97",
   "metadata": {},
   "source": [
    "> So you can see that when defining the role we are adding a statement that lays out the policy. So the principal is who will be allowed to act -- here an ec2 machine -- and the action is what they will be allowed to do, Assume the Role of this IAM role.  The Sid is the statement id, and we could assign one for reference/descriptive purposes, but here we just leave it blank.  "
   ]
  },
  {
   "cell_type": "markdown",
   "id": "70eef243-0272-4646-80f7-48a6e5ff49f5",
   "metadata": {},
   "source": [
    "### The Identity policy"
   ]
  },
  {
   "cell_type": "markdown",
   "id": "f997376e-1cad-4142-ada4-6101e79ea551",
   "metadata": {},
   "source": [
    "Ok, so we just specified the trust policy, saying who gets access to this keycard.  Next up is to specify the resource policy, where we say what they can do with the keycard."
   ]
  },
  {
   "cell_type": "markdown",
   "id": "9317def3-d98d-44e9-b0b3-8222e6fa7812",
   "metadata": {},
   "source": [
    "* Attaching an identity policy"
   ]
  },
  {
   "cell_type": "markdown",
   "id": "02e12d0c-4c2f-47cb-bb92-50a789e4622f",
   "metadata": {},
   "source": [
    "```bash\n",
    "resource \"aws_iam_role_policy_attachment\" \"ecr_read_only\" {\n",
    " role = aws_iam_role.ec2_ecr_role.name\n",
    " policy_arn = \"arn:aws:iam::aws:policy/AmazonEC2ContainerRegistryReadOnly\"\n",
    "}\n",
    "```"
   ]
  },
  {
   "cell_type": "markdown",
   "id": "4986cb93-ee85-4a95-a2f2-5091269bacd3",
   "metadata": {},
   "source": [
    "So the above, uses an already specified policy, that has various permissions, and then attaches this policy to our `aws_iam_role`."
   ]
  },
  {
   "cell_type": "markdown",
   "id": "fdca945d-8a18-4b89-a4e8-14ebe667a7c1",
   "metadata": {},
   "source": [
    "We are using a prebuilt policy, and specifying the arn -- that is the Amazon Resource Number, as a way to identify the policy.  If you want, you can just copy and paste that arn string directly into the search box in AWS."
   ]
  },
  {
   "cell_type": "markdown",
   "id": "b64c0081-d4c2-4ca6-8597-34e0b9bb762b",
   "metadata": {},
   "source": [
    "<img src=\"./arn-number.png\" width=\"70%\">"
   ]
  },
  {
   "cell_type": "markdown",
   "id": "710cf7e8-e2b2-459c-977e-7518df6c6a3b",
   "metadata": {},
   "source": [
    "And from there, you can click teh `AmazonEC2ContainerRegistryReadOnly` link.  There, you'll see that the policy itself defines the following statement:"
   ]
  },
  {
   "cell_type": "markdown",
   "id": "37ef0752-ac8e-4bb4-aee6-d99555c9499f",
   "metadata": {},
   "source": [
    "<img src=\"./json-doc.png\" width=\"60%\">"
   ]
  },
  {
   "cell_type": "markdown",
   "id": "f8373d55-2607-4c9c-92e7-bb2da0f2e3b6",
   "metadata": {},
   "source": [
    "Ok, so you can see something similar.  We are defining a set of actions that can be performed.  And at the bottom, the `Resource: \"*\"` means that this applies to any ECR resource.\n",
    "\n",
    "So above, when specified the following:\n",
    "\n",
    "```bash\n",
    "resource \"aws_iam_role_policy_attachment\" \"ecr_read_only\" {\n",
    " role = aws_iam_role.ec2_ecr_role.name\n",
    " policy_arn = \"arn:aws:iam::aws:policy/AmazonEC2ContainerRegistryReadOnly\"\n",
    "}\n",
    "```\n",
    "\n",
    "We are attaching these permissions to our role, and we already said that EC2 instances can assume the role."
   ]
  },
  {
   "cell_type": "markdown",
   "id": "71ce0492-723b-4a19-a3bd-a246472a17e9",
   "metadata": {},
   "source": [
    "### Attaching the role"
   ]
  },
  {
   "cell_type": "markdown",
   "id": "1d3e1181-1c46-4b9e-a0c0-dde8f6b1cf9f",
   "metadata": {},
   "source": [
    "The last step is to attach the role to a specific EC2 instance.  We may think we can directly attach the role to the EC2 machine, but instead we need to first create an AWS instance profile."
   ]
  },
  {
   "cell_type": "markdown",
   "id": "bb6892e0-e88c-4373-b650-33997241b90c",
   "metadata": {},
   "source": [
    "```bash\n",
    "resource \"aws_iam_instance_profile\" \"ec2_profile\" {\n",
    " name = \"ec2-ecr-instance-profile\"\n",
    " role = aws_iam_role.ec2_ecr_role.name\n",
    "}\n",
    "```"
   ]
  },
  {
   "cell_type": "markdown",
   "id": "965e0ac5-2f80-4b70-b0ba-6917d298e7f1",
   "metadata": {},
   "source": [
    "An AWS instance profile, is just a wrapper around the role.  It's kind of pointless, from our perspective.  We just need to wrap the role in the profile, and then we'll attach the profile to the EC2 instance.  \n",
    "\n",
    "Let's attach the profile now."
   ]
  },
  {
   "cell_type": "markdown",
   "id": "38070a2b-5729-46c5-9fd4-4d93b5e95a4c",
   "metadata": {},
   "source": [
    "```bash\n",
    "resource \"aws_instance\" \"example\" {\n",
    " ami = \"ami-123456\" # Replace with your AMI\n",
    " instance_type = \"t2.micro\"\n",
    " iam_instance_profile = aws_iam_instance_profile.ec2_profile.name\n",
    "}\n",
    "```"
   ]
  },
  {
   "cell_type": "markdown",
   "id": "1c823c90-9051-4c41-a722-be7ab91b7223",
   "metadata": {},
   "source": [
    "Ok, so that's it.  We just gave our AWS EC2 instance, the ability to pull down our images from our ECR resource."
   ]
  },
  {
   "cell_type": "markdown",
   "id": "59db8630-d82e-4ee4-b222-4d0935a88b24",
   "metadata": {
    "tags": []
   },
   "source": [
    "### Trying it out"
   ]
  },
  {
   "cell_type": "markdown",
   "id": "a9356543-5d5f-40a9-a478-2985fcaab8cc",
   "metadata": {},
   "source": [
    "Alright now we should be able to try out our policies.  Run \n",
    "\n",
    "* terraform apply\n",
    "* then ssh into the ec2 machine\n",
    "* Confirm you can login the Docker client (with the ECR repository from the last lab)\n",
    "\n",
    "If you can perform those steps, then we know that you have access to the ECR repository."
   ]
  },
  {
   "cell_type": "markdown",
   "id": "b99a6940-1b89-4f6e-bda8-164e0d02b399",
   "metadata": {},
   "source": [
    "### A Visual Summary"
   ]
  },
  {
   "cell_type": "markdown",
   "id": "0cc5c6ad-8bc0-49f4-ba33-03de203f605d",
   "metadata": {},
   "source": [
    "Ok, so there were a few steps there, and perhaps a diagram can help."
   ]
  },
  {
   "cell_type": "markdown",
   "id": "c446d016-a4b4-4ab4-a501-a0844de1868a",
   "metadata": {},
   "source": [
    "<img src=\"./ec2-ecr-permissions.png\" width=\"60%\">"
   ]
  },
  {
   "cell_type": "markdown",
   "id": "602fc98b-b8d6-453f-9aa6-6ee24d4fa2d5",
   "metadata": {},
   "source": [
    "As you can see above, we create an IAM role, and attach two policies: \n",
    "    \n",
    "1. IAM Policy - EC2ContainerRegistryPolicy that grants the role access to the ECR resources\n",
    "2. Trust Policy - This allows EC2s to assume this role\n",
    "\n",
    "The trust policy is directly specified on the role, but the IAM Policy had to be attached to our role.\n",
    "\n",
    "```bash\n",
    "resource \"aws_iam_role_policy_attachment\" \"ecr_read_only\" {\n",
    " role = aws_iam_role.ec2_ecr_role.name\n",
    " policy_arn = \"arn:aws:iam::aws:policy/AmazonEC2ContainerRegistryReadOnly\"\n",
    "}\n",
    "```\n",
    "\n",
    "Then, we needed to create a profile that wraps around our IAM role, and we directly associate that profile on our EC2 instance."
   ]
  }
 ],
 "metadata": {
  "kernelspec": {
   "display_name": "Python 3 (ipykernel)",
   "language": "python",
   "name": "python3"
  },
  "language_info": {
   "codemirror_mode": {
    "name": "ipython",
    "version": 3
   },
   "file_extension": ".py",
   "mimetype": "text/x-python",
   "name": "python",
   "nbconvert_exporter": "python",
   "pygments_lexer": "ipython3",
   "version": "3.10.13"
  }
 },
 "nbformat": 4,
 "nbformat_minor": 5
}
